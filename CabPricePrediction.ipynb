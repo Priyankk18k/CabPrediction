{
  "nbformat": 4,
  "nbformat_minor": 0,
  "metadata": {
    "colab": {
      "name": "CabPricePrediction.ipynb",
      "provenance": []
    },
    "kernelspec": {
      "name": "python3",
      "display_name": "Python 3"
    }
  },
  "cells": [
    {
      "cell_type": "code",
      "metadata": {
        "id": "Y2ASDXNGPbBG",
        "colab_type": "code",
        "colab": {}
      },
      "source": [
        "import os\n",
        "import pandas as pd\n",
        "import numpy as np\n",
        "from fancyimpute import KNN"
      ],
      "execution_count": 0,
      "outputs": []
    },
    {
      "cell_type": "code",
      "metadata": {
        "id": "KxkYetZlPlNe",
        "colab_type": "code",
        "colab": {
          "base_uri": "https://localhost:8080/",
          "height": 204
        },
        "outputId": "0348428f-5f32-4d88-8ff6-8271054d60e1"
      },
      "source": [
        "train = pd.read_csv(\"https://raw.githubusercontent.com/Priyankk18k/CabPrediction/master/train_cab.csv\")\n",
        "test = pd.read_csv(\"https://raw.githubusercontent.com/Priyankk18k/CabPrediction/master/test.csv\")\n",
        "train.head()"
      ],
      "execution_count": 145,
      "outputs": [
        {
          "output_type": "execute_result",
          "data": {
            "text/html": [
              "<div>\n",
              "<style scoped>\n",
              "    .dataframe tbody tr th:only-of-type {\n",
              "        vertical-align: middle;\n",
              "    }\n",
              "\n",
              "    .dataframe tbody tr th {\n",
              "        vertical-align: top;\n",
              "    }\n",
              "\n",
              "    .dataframe thead th {\n",
              "        text-align: right;\n",
              "    }\n",
              "</style>\n",
              "<table border=\"1\" class=\"dataframe\">\n",
              "  <thead>\n",
              "    <tr style=\"text-align: right;\">\n",
              "      <th></th>\n",
              "      <th>fare_amount</th>\n",
              "      <th>pickup_datetime</th>\n",
              "      <th>pickup_longitude</th>\n",
              "      <th>pickup_latitude</th>\n",
              "      <th>dropoff_longitude</th>\n",
              "      <th>dropoff_latitude</th>\n",
              "      <th>passenger_count</th>\n",
              "    </tr>\n",
              "  </thead>\n",
              "  <tbody>\n",
              "    <tr>\n",
              "      <th>0</th>\n",
              "      <td>4.5</td>\n",
              "      <td>2009-06-15 17:26:21 UTC</td>\n",
              "      <td>-73.844311</td>\n",
              "      <td>40.721319</td>\n",
              "      <td>-73.841610</td>\n",
              "      <td>40.712278</td>\n",
              "      <td>1.0</td>\n",
              "    </tr>\n",
              "    <tr>\n",
              "      <th>1</th>\n",
              "      <td>16.9</td>\n",
              "      <td>2010-01-05 16:52:16 UTC</td>\n",
              "      <td>-74.016048</td>\n",
              "      <td>40.711303</td>\n",
              "      <td>-73.979268</td>\n",
              "      <td>40.782004</td>\n",
              "      <td>1.0</td>\n",
              "    </tr>\n",
              "    <tr>\n",
              "      <th>2</th>\n",
              "      <td>5.7</td>\n",
              "      <td>2011-08-18 00:35:00 UTC</td>\n",
              "      <td>-73.982738</td>\n",
              "      <td>40.761270</td>\n",
              "      <td>-73.991242</td>\n",
              "      <td>40.750562</td>\n",
              "      <td>2.0</td>\n",
              "    </tr>\n",
              "    <tr>\n",
              "      <th>3</th>\n",
              "      <td>7.7</td>\n",
              "      <td>2012-04-21 04:30:42 UTC</td>\n",
              "      <td>-73.987130</td>\n",
              "      <td>40.733143</td>\n",
              "      <td>-73.991567</td>\n",
              "      <td>40.758092</td>\n",
              "      <td>1.0</td>\n",
              "    </tr>\n",
              "    <tr>\n",
              "      <th>4</th>\n",
              "      <td>5.3</td>\n",
              "      <td>2010-03-09 07:51:00 UTC</td>\n",
              "      <td>-73.968095</td>\n",
              "      <td>40.768008</td>\n",
              "      <td>-73.956655</td>\n",
              "      <td>40.783762</td>\n",
              "      <td>1.0</td>\n",
              "    </tr>\n",
              "  </tbody>\n",
              "</table>\n",
              "</div>"
            ],
            "text/plain": [
              "  fare_amount          pickup_datetime  ...  dropoff_latitude  passenger_count\n",
              "0         4.5  2009-06-15 17:26:21 UTC  ...         40.712278              1.0\n",
              "1        16.9  2010-01-05 16:52:16 UTC  ...         40.782004              1.0\n",
              "2         5.7  2011-08-18 00:35:00 UTC  ...         40.750562              2.0\n",
              "3         7.7  2012-04-21 04:30:42 UTC  ...         40.758092              1.0\n",
              "4         5.3  2010-03-09 07:51:00 UTC  ...         40.783762              1.0\n",
              "\n",
              "[5 rows x 7 columns]"
            ]
          },
          "metadata": {
            "tags": []
          },
          "execution_count": 145
        }
      ]
    },
    {
      "cell_type": "code",
      "metadata": {
        "id": "mfmA_bVgPr7M",
        "colab_type": "code",
        "colab": {
          "base_uri": "https://localhost:8080/",
          "height": 390
        },
        "outputId": "4ba7ffcf-ae70-499e-ca99-7fe7127fdc71"
      },
      "source": [
        "train.describe(include='all')\n"
      ],
      "execution_count": 146,
      "outputs": [
        {
          "output_type": "execute_result",
          "data": {
            "text/html": [
              "<div>\n",
              "<style scoped>\n",
              "    .dataframe tbody tr th:only-of-type {\n",
              "        vertical-align: middle;\n",
              "    }\n",
              "\n",
              "    .dataframe tbody tr th {\n",
              "        vertical-align: top;\n",
              "    }\n",
              "\n",
              "    .dataframe thead th {\n",
              "        text-align: right;\n",
              "    }\n",
              "</style>\n",
              "<table border=\"1\" class=\"dataframe\">\n",
              "  <thead>\n",
              "    <tr style=\"text-align: right;\">\n",
              "      <th></th>\n",
              "      <th>fare_amount</th>\n",
              "      <th>pickup_datetime</th>\n",
              "      <th>pickup_longitude</th>\n",
              "      <th>pickup_latitude</th>\n",
              "      <th>dropoff_longitude</th>\n",
              "      <th>dropoff_latitude</th>\n",
              "      <th>passenger_count</th>\n",
              "    </tr>\n",
              "  </thead>\n",
              "  <tbody>\n",
              "    <tr>\n",
              "      <th>count</th>\n",
              "      <td>16043</td>\n",
              "      <td>16067</td>\n",
              "      <td>16067.000000</td>\n",
              "      <td>16067.000000</td>\n",
              "      <td>16067.000000</td>\n",
              "      <td>16067.000000</td>\n",
              "      <td>16012.000000</td>\n",
              "    </tr>\n",
              "    <tr>\n",
              "      <th>unique</th>\n",
              "      <td>468</td>\n",
              "      <td>16021</td>\n",
              "      <td>NaN</td>\n",
              "      <td>NaN</td>\n",
              "      <td>NaN</td>\n",
              "      <td>NaN</td>\n",
              "      <td>NaN</td>\n",
              "    </tr>\n",
              "    <tr>\n",
              "      <th>top</th>\n",
              "      <td>6.5</td>\n",
              "      <td>2013-01-11 12:28:00 UTC</td>\n",
              "      <td>NaN</td>\n",
              "      <td>NaN</td>\n",
              "      <td>NaN</td>\n",
              "      <td>NaN</td>\n",
              "      <td>NaN</td>\n",
              "    </tr>\n",
              "    <tr>\n",
              "      <th>freq</th>\n",
              "      <td>759</td>\n",
              "      <td>2</td>\n",
              "      <td>NaN</td>\n",
              "      <td>NaN</td>\n",
              "      <td>NaN</td>\n",
              "      <td>NaN</td>\n",
              "      <td>NaN</td>\n",
              "    </tr>\n",
              "    <tr>\n",
              "      <th>mean</th>\n",
              "      <td>NaN</td>\n",
              "      <td>NaN</td>\n",
              "      <td>-72.462787</td>\n",
              "      <td>39.914725</td>\n",
              "      <td>-72.462328</td>\n",
              "      <td>39.897906</td>\n",
              "      <td>2.625070</td>\n",
              "    </tr>\n",
              "    <tr>\n",
              "      <th>std</th>\n",
              "      <td>NaN</td>\n",
              "      <td>NaN</td>\n",
              "      <td>10.578384</td>\n",
              "      <td>6.826587</td>\n",
              "      <td>10.575062</td>\n",
              "      <td>6.187087</td>\n",
              "      <td>60.844122</td>\n",
              "    </tr>\n",
              "    <tr>\n",
              "      <th>min</th>\n",
              "      <td>NaN</td>\n",
              "      <td>NaN</td>\n",
              "      <td>-74.438233</td>\n",
              "      <td>-74.006893</td>\n",
              "      <td>-74.429332</td>\n",
              "      <td>-74.006377</td>\n",
              "      <td>0.000000</td>\n",
              "    </tr>\n",
              "    <tr>\n",
              "      <th>25%</th>\n",
              "      <td>NaN</td>\n",
              "      <td>NaN</td>\n",
              "      <td>-73.992156</td>\n",
              "      <td>40.734927</td>\n",
              "      <td>-73.991182</td>\n",
              "      <td>40.734651</td>\n",
              "      <td>1.000000</td>\n",
              "    </tr>\n",
              "    <tr>\n",
              "      <th>50%</th>\n",
              "      <td>NaN</td>\n",
              "      <td>NaN</td>\n",
              "      <td>-73.981698</td>\n",
              "      <td>40.752603</td>\n",
              "      <td>-73.980172</td>\n",
              "      <td>40.753567</td>\n",
              "      <td>1.000000</td>\n",
              "    </tr>\n",
              "    <tr>\n",
              "      <th>75%</th>\n",
              "      <td>NaN</td>\n",
              "      <td>NaN</td>\n",
              "      <td>-73.966838</td>\n",
              "      <td>40.767381</td>\n",
              "      <td>-73.963643</td>\n",
              "      <td>40.768013</td>\n",
              "      <td>2.000000</td>\n",
              "    </tr>\n",
              "    <tr>\n",
              "      <th>max</th>\n",
              "      <td>NaN</td>\n",
              "      <td>NaN</td>\n",
              "      <td>40.766125</td>\n",
              "      <td>401.083332</td>\n",
              "      <td>40.802437</td>\n",
              "      <td>41.366138</td>\n",
              "      <td>5345.000000</td>\n",
              "    </tr>\n",
              "  </tbody>\n",
              "</table>\n",
              "</div>"
            ],
            "text/plain": [
              "       fare_amount          pickup_datetime  ...  dropoff_latitude  passenger_count\n",
              "count        16043                    16067  ...      16067.000000     16012.000000\n",
              "unique         468                    16021  ...               NaN              NaN\n",
              "top            6.5  2013-01-11 12:28:00 UTC  ...               NaN              NaN\n",
              "freq           759                        2  ...               NaN              NaN\n",
              "mean           NaN                      NaN  ...         39.897906         2.625070\n",
              "std            NaN                      NaN  ...          6.187087        60.844122\n",
              "min            NaN                      NaN  ...        -74.006377         0.000000\n",
              "25%            NaN                      NaN  ...         40.734651         1.000000\n",
              "50%            NaN                      NaN  ...         40.753567         1.000000\n",
              "75%            NaN                      NaN  ...         40.768013         2.000000\n",
              "max            NaN                      NaN  ...         41.366138      5345.000000\n",
              "\n",
              "[11 rows x 7 columns]"
            ]
          },
          "metadata": {
            "tags": []
          },
          "execution_count": 146
        }
      ]
    },
    {
      "cell_type": "code",
      "metadata": {
        "id": "wGUY6h4JPySX",
        "colab_type": "code",
        "colab": {
          "base_uri": "https://localhost:8080/",
          "height": 170
        },
        "outputId": "72ea0c73-e604-44ea-c290-0817568222a8"
      },
      "source": [
        "print(train.dtypes)\n",
        "print(train.shape)\n"
      ],
      "execution_count": 147,
      "outputs": [
        {
          "output_type": "stream",
          "text": [
            "fare_amount           object\n",
            "pickup_datetime       object\n",
            "pickup_longitude     float64\n",
            "pickup_latitude      float64\n",
            "dropoff_longitude    float64\n",
            "dropoff_latitude     float64\n",
            "passenger_count      float64\n",
            "dtype: object\n",
            "(16067, 7)\n"
          ],
          "name": "stdout"
        }
      ]
    },
    {
      "cell_type": "code",
      "metadata": {
        "id": "lQLGsdoWP728",
        "colab_type": "code",
        "colab": {}
      },
      "source": [
        "train['fare_amount'] = pd.to_numeric(train['fare_amount'], errors='coerce')\n",
        "train['pickup_datetime'] = pd.to_datetime(train['pickup_datetime'], errors='coerce')"
      ],
      "execution_count": 0,
      "outputs": []
    },
    {
      "cell_type": "markdown",
      "metadata": {
        "id": "LLDhfkF6QQZ6",
        "colab_type": "text"
      },
      "source": [
        "# Data Cleaning"
      ]
    },
    {
      "cell_type": "code",
      "metadata": {
        "id": "X2SK0ZACQGaL",
        "colab_type": "code",
        "colab": {}
      },
      "source": [
        "#Changing the values to its absolute for easier calculation further\n",
        "train = train[abs(train[\"pickup_latitude\"]) < 90] #One value is 401 deleting that\n",
        "train = train[abs(train[\"dropoff_latitude\"]) < 90] #non greater than 90\n",
        "train = train[abs(train[\"pickup_longitude\"]) < 180]\n",
        "train = train[abs(train[\"dropoff_longitude\"]) < 180]\n"
      ],
      "execution_count": 0,
      "outputs": []
    },
    {
      "cell_type": "code",
      "metadata": {
        "id": "BFTg0Sa_QSKm",
        "colab_type": "code",
        "colab": {}
      },
      "source": [
        "#Deleting pasangers count where count > 7, as a cab can max hold 8 passengers and i want to avoid outliers so deleting it not imputing\n",
        "index_pc = train.loc[train.passenger_count > 7,:].index\n",
        "train.drop(index_pc, axis = 0, inplace = True)"
      ],
      "execution_count": 0,
      "outputs": []
    },
    {
      "cell_type": "code",
      "metadata": {
        "id": "qhWTJAgVQjlg",
        "colab_type": "code",
        "colab": {}
      },
      "source": [
        "#deleting values greater than 100 or negative\n",
        "index_fc = train.loc[train.fare_amount > 100,:].index\n",
        "train.drop(index_fc, axis = 0, inplace = True)\n",
        "\n",
        "index_fc1 = train.loc[train.fare_amount < 0, :].index\n",
        "train.drop(index_fc1, axis = 0, inplace = True)"
      ],
      "execution_count": 0,
      "outputs": []
    },
    {
      "cell_type": "code",
      "metadata": {
        "id": "mMZT8uQsQvWH",
        "colab_type": "code",
        "colab": {}
      },
      "source": [
        "train = train.dropna(subset=['fare_amount'])\n",
        "train = train.dropna(subset=['pickup_datetime'])"
      ],
      "execution_count": 0,
      "outputs": []
    },
    {
      "cell_type": "code",
      "metadata": {
        "id": "dSmXocviQ8yk",
        "colab_type": "code",
        "colab": {
          "base_uri": "https://localhost:8080/",
          "height": 34
        },
        "outputId": "406f1656-f099-49a4-904e-98e626e0a743"
      },
      "source": [
        "#replacing all values that has 0 to nan so that we can impute them during missing value analysis\n",
        "train=train.replace(0,np.nan)\n",
        "print(train.shape)"
      ],
      "execution_count": 153,
      "outputs": [
        {
          "output_type": "stream",
          "text": [
            "(16009, 7)\n"
          ],
          "name": "stdout"
        }
      ]
    },
    {
      "cell_type": "markdown",
      "metadata": {
        "id": "WKZFuHcpRP_m",
        "colab_type": "text"
      },
      "source": [
        "# Feature Engineering"
      ]
    },
    {
      "cell_type": "code",
      "metadata": {
        "id": "us7s4noSRE5I",
        "colab_type": "code",
        "colab": {}
      },
      "source": [
        "\n",
        "#Datetime breakup and changinng the datatype to int\n",
        "\n",
        "train['year']=train['pickup_datetime'].dt.year\n",
        "train['month']=train['pickup_datetime'].dt.month\n",
        "train['weekday']=train['pickup_datetime'].dt.weekday\n",
        "train['hour']=train['pickup_datetime'].dt.hour\n",
        "train=train.drop('pickup_datetime',axis=1)\n"
      ],
      "execution_count": 0,
      "outputs": []
    },
    {
      "cell_type": "markdown",
      "metadata": {
        "id": "lGdELtWbRtwq",
        "colab_type": "text"
      },
      "source": [
        "# Missing Value Analysis"
      ]
    },
    {
      "cell_type": "code",
      "metadata": {
        "id": "EybROu7wRZ4c",
        "colab_type": "code",
        "colab": {
          "base_uri": "https://localhost:8080/",
          "height": 733
        },
        "outputId": "04bd7305-82a4-408f-bb9b-88a324d7ecb4"
      },
      "source": [
        "print(train.isnull().sum())\n",
        "print(train.isnull().count())\n",
        "# Finding out the percentage of the null columns\n",
        "total = train.isnull().sum().sort_values(ascending=False)\n",
        "percent = ((train.isnull().sum()/train.isnull().count()).sort_values(ascending=False))*100\n",
        "missing_data = pd.concat([total, percent], axis=1, keys=['Total', 'Percent'])\n",
        "missing_data = missing_data.sort_values('Total', ascending = True)\n",
        "missing_data"
      ],
      "execution_count": 155,
      "outputs": [
        {
          "output_type": "stream",
          "text": [
            "fare_amount            1\n",
            "pickup_longitude     310\n",
            "pickup_latitude      310\n",
            "dropoff_longitude    309\n",
            "dropoff_latitude     307\n",
            "passenger_count      112\n",
            "year                   0\n",
            "month                  0\n",
            "weekday                0\n",
            "hour                   0\n",
            "dtype: int64\n",
            "fare_amount          16009\n",
            "pickup_longitude     16009\n",
            "pickup_latitude      16009\n",
            "dropoff_longitude    16009\n",
            "dropoff_latitude     16009\n",
            "passenger_count      16009\n",
            "year                 16009\n",
            "month                16009\n",
            "weekday              16009\n",
            "hour                 16009\n",
            "dtype: int64\n"
          ],
          "name": "stdout"
        },
        {
          "output_type": "execute_result",
          "data": {
            "text/html": [
              "<div>\n",
              "<style scoped>\n",
              "    .dataframe tbody tr th:only-of-type {\n",
              "        vertical-align: middle;\n",
              "    }\n",
              "\n",
              "    .dataframe tbody tr th {\n",
              "        vertical-align: top;\n",
              "    }\n",
              "\n",
              "    .dataframe thead th {\n",
              "        text-align: right;\n",
              "    }\n",
              "</style>\n",
              "<table border=\"1\" class=\"dataframe\">\n",
              "  <thead>\n",
              "    <tr style=\"text-align: right;\">\n",
              "      <th></th>\n",
              "      <th>Total</th>\n",
              "      <th>Percent</th>\n",
              "    </tr>\n",
              "  </thead>\n",
              "  <tbody>\n",
              "    <tr>\n",
              "      <th>hour</th>\n",
              "      <td>0</td>\n",
              "      <td>0.000000</td>\n",
              "    </tr>\n",
              "    <tr>\n",
              "      <th>weekday</th>\n",
              "      <td>0</td>\n",
              "      <td>0.000000</td>\n",
              "    </tr>\n",
              "    <tr>\n",
              "      <th>month</th>\n",
              "      <td>0</td>\n",
              "      <td>0.000000</td>\n",
              "    </tr>\n",
              "    <tr>\n",
              "      <th>year</th>\n",
              "      <td>0</td>\n",
              "      <td>0.000000</td>\n",
              "    </tr>\n",
              "    <tr>\n",
              "      <th>fare_amount</th>\n",
              "      <td>1</td>\n",
              "      <td>0.006246</td>\n",
              "    </tr>\n",
              "    <tr>\n",
              "      <th>passenger_count</th>\n",
              "      <td>112</td>\n",
              "      <td>0.699606</td>\n",
              "    </tr>\n",
              "    <tr>\n",
              "      <th>dropoff_latitude</th>\n",
              "      <td>307</td>\n",
              "      <td>1.917671</td>\n",
              "    </tr>\n",
              "    <tr>\n",
              "      <th>dropoff_longitude</th>\n",
              "      <td>309</td>\n",
              "      <td>1.930164</td>\n",
              "    </tr>\n",
              "    <tr>\n",
              "      <th>pickup_latitude</th>\n",
              "      <td>310</td>\n",
              "      <td>1.936411</td>\n",
              "    </tr>\n",
              "    <tr>\n",
              "      <th>pickup_longitude</th>\n",
              "      <td>310</td>\n",
              "      <td>1.936411</td>\n",
              "    </tr>\n",
              "  </tbody>\n",
              "</table>\n",
              "</div>"
            ],
            "text/plain": [
              "                   Total   Percent\n",
              "hour                   0  0.000000\n",
              "weekday                0  0.000000\n",
              "month                  0  0.000000\n",
              "year                   0  0.000000\n",
              "fare_amount            1  0.006246\n",
              "passenger_count      112  0.699606\n",
              "dropoff_latitude     307  1.917671\n",
              "dropoff_longitude    309  1.930164\n",
              "pickup_latitude      310  1.936411\n",
              "pickup_longitude     310  1.936411"
            ]
          },
          "metadata": {
            "tags": []
          },
          "execution_count": 155
        }
      ]
    },
    {
      "cell_type": "code",
      "metadata": {
        "id": "cDjxM8U1RyoB",
        "colab_type": "code",
        "colab": {}
      },
      "source": [
        "train=pd.DataFrame(KNN(k=5).fit_transform(train),columns=train.columns, index=train.index)\n",
        "## Best imputing is done by KNN That's why imputing with KNN not with mean,median"
      ],
      "execution_count": 0,
      "outputs": []
    },
    {
      "cell_type": "code",
      "metadata": {
        "id": "7xbF6hv6Sviy",
        "colab_type": "code",
        "colab": {}
      },
      "source": [
        "\n",
        "train['passenger_count']=train['passenger_count'].astype(int)\n",
        "train['year']=train['year'].astype(int)\n",
        "train['weekday']=train['weekday'].astype(int)\n",
        "train['hour']=train['hour'].astype(int)\n",
        "train['month']=train['month'].astype(int)"
      ],
      "execution_count": 0,
      "outputs": []
    },
    {
      "cell_type": "code",
      "metadata": {
        "id": "vfzwpAT5TGyc",
        "colab_type": "code",
        "colab": {}
      },
      "source": [
        "train['abs_longi']=abs(train['pickup_longitude']-train['dropoff_longitude'])\n",
        "train['abs_lat']=abs(train['pickup_latitude']-train['dropoff_latitude'])"
      ],
      "execution_count": 0,
      "outputs": []
    },
    {
      "cell_type": "code",
      "metadata": {
        "id": "1UgR34UyTP5G",
        "colab_type": "code",
        "colab": {}
      },
      "source": [
        "\n",
        "#Calculatig distance from log and lati with circle formula\n",
        "def great_circle_distance(lon1,lat1,lon2,lat2):\n",
        "    R = 6371000 # Approximate mean radius of earth (in mt)\n",
        "    # Convert decimal degrees to radians\n",
        "    lon1,lat1,lon2,lat2 = map(np.radians, [lon1, lat1, lon2, lat2])\n",
        "    \n",
        "    # Distance of lons and lats in radians\n",
        "    dis_lon = lon2 - lon1\n",
        "    dis_lat = lat2 - lat1\n",
        "    \n",
        "    # Haversine implementation\n",
        "    a = np.sin(dis_lat/2)**2 + np.cos(lat1) * np.cos(lat2) * np.sin(dis_lon/2)**2\n",
        "    c = 2*np.arctan2(np.sqrt(a), np.sqrt(1-a))\n",
        "    dis_m = R*c # Distance in meters\n",
        "    dis_km = dis_m/1000 # Distance in km\n",
        "    return dis_km\n",
        "train['distance'] = great_circle_distance(train.pickup_longitude, train.pickup_latitude, train.dropoff_longitude, train.dropoff_latitude)\n",
        "train.head(10)"
      ],
      "execution_count": 0,
      "outputs": []
    },
    {
      "cell_type": "markdown",
      "metadata": {
        "id": "MmqdpEKqT5CJ",
        "colab_type": "text"
      },
      "source": [
        "# Univariate Analysis"
      ]
    },
    {
      "cell_type": "code",
      "metadata": {
        "id": "Q1E1CzTrTnwN",
        "colab_type": "code",
        "colab": {}
      },
      "source": [
        "import matplotlib.pyplot as plt \n",
        "import seaborn as sns\n",
        "%matplotlib inline"
      ],
      "execution_count": 0,
      "outputs": []
    },
    {
      "cell_type": "code",
      "metadata": {
        "id": "iyEE5r1mT_nr",
        "colab_type": "code",
        "colab": {}
      },
      "source": [
        "fig_size = plt.rcParams['figure.figsize']\n",
        "fig_size[0] = 15\n",
        "fig_size[1] = 10\n",
        "\n",
        "plt.subplot(3,4,1)\n",
        "plt.plot(train['fare_amount'])\n",
        "plt.title('fare_amount')\n",
        "\n",
        "plt.subplot(3,4,2)\n",
        "plt.plot(train['dropoff_longitude'])\n",
        "plt.title('dropoff_longitude')\n",
        "\n",
        "plt.subplot(3,4,3)\n",
        "plt.plot(train['dropoff_latitude'])\n",
        "plt.title('dropoff_latitude')\n",
        "\n",
        "plt.subplot(3,4,4)\n",
        "plt.plot(train['passenger_count'])\n",
        "plt.title('passenger_count')\n",
        "\n",
        "plt.subplot(3,4,5)\n",
        "plt.plot(train['pickup_latitude'])\n",
        "plt.title('pickup_latitude')\n",
        "\n",
        "plt.subplot(3,4,6)\n",
        "plt.plot(train['pickup_longitude'])\n",
        "plt.title('pickup_longitude')\n",
        "\n",
        "plt.subplot(3,4,7)\n",
        "plt.plot(train['abs_longi'])\n",
        "plt.title('abs_longi')\n",
        "\n",
        "plt.subplot(3,4,8)\n",
        "plt.plot(train['abs_lat'])\n",
        "plt.title('abs_lat')\n",
        "\n",
        "plt.subplot(3,4,9)\n",
        "plt.plot(train['distance'])\n",
        "plt.title('distance')\n",
        "\n",
        "plt.tight_layout()"
      ],
      "execution_count": 0,
      "outputs": []
    },
    {
      "cell_type": "markdown",
      "metadata": {
        "id": "F7DLZhjqUOzL",
        "colab_type": "text"
      },
      "source": [
        "# Bivariate Analysis"
      ]
    },
    {
      "cell_type": "code",
      "metadata": {
        "id": "ovR5dhicUGOD",
        "colab_type": "code",
        "colab": {}
      },
      "source": [
        "fig, axarr = plt.subplots(2, 2, figsize=(15, 15))\n",
        "plt.subplots_adjust(hspace=.3)\n",
        "sns.barplot(x='year',y='fare_amount',data=train,ax=axarr[0][0])\n",
        "sns.barplot(x='month',y='fare_amount',data=train,ax=axarr[0][1])\n",
        "sns.barplot(x='weekday',y='fare_amount',data=train,ax=axarr[1][0])\n",
        "sns.barplot(x='hour',y='fare_amount',data=train,ax=axarr[1][1])"
      ],
      "execution_count": 0,
      "outputs": []
    },
    {
      "cell_type": "code",
      "metadata": {
        "id": "Cb_xuNZtUQtC",
        "colab_type": "code",
        "colab": {}
      },
      "source": [
        "sns.lmplot(x='distance',y='fare_amount',data=train)\n",
        "sns.lmplot(x='abs_lat',y='fare_amount',data=train)\n",
        "sns.lmplot(x='abs_longi',y='fare_amount',data=train)\n",
        "sns.lmplot(x='passenger_count',y='fare_amount',data=train)"
      ],
      "execution_count": 0,
      "outputs": []
    },
    {
      "cell_type": "code",
      "metadata": {
        "id": "r_kWYGbJUfAA",
        "colab_type": "code",
        "colab": {}
      },
      "source": [
        "year = pd.pivot_table(train, values = 'fare_amount', index = 'year', aggfunc = ['mean'])\n",
        "fig, ax = plt.subplots(figsize = (10,5))\n",
        "year.plot(kind = 'bar', legend = False, color = 'firebrick', ax = ax)\n",
        "ax.set(title = 'year vs mean fare_amount', ylabel= 'fare_amount')\n",
        "plt.show()"
      ],
      "execution_count": 0,
      "outputs": []
    },
    {
      "cell_type": "markdown",
      "metadata": {
        "id": "xp3vS5TbU9zl",
        "colab_type": "text"
      },
      "source": [
        "# Outlier Analysis"
      ]
    },
    {
      "cell_type": "code",
      "metadata": {
        "id": "seMjQPuTUpRp",
        "colab_type": "code",
        "colab": {}
      },
      "source": [
        "fig_size = plt.rcParams['figure.figsize']\n",
        "fig_size[0] = 15\n",
        "fig_size[1] = 10\n",
        "\n",
        "plt.subplot(3,4,1)\n",
        "plt.boxplot(train['fare_amount'])\n",
        "plt.title('fare_amount')\n",
        "\n",
        "plt.subplot(3,4,2)\n",
        "plt.boxplot(train['dropoff_longitude'])\n",
        "plt.title('dropoff_longitude')\n",
        "\n",
        "plt.subplot(3,4,3)\n",
        "plt.boxplot(train['dropoff_latitude'])\n",
        "plt.title('dropoff_latitude')\n",
        "\n",
        "plt.subplot(3,4,4)\n",
        "plt.boxplot(train['passenger_count'])\n",
        "plt.title('passenger_count')\n",
        "\n",
        "plt.subplot(3,4,5)\n",
        "plt.boxplot(train['pickup_latitude'])\n",
        "plt.title('pickup_latitude')\n",
        "\n",
        "plt.subplot(3,4,6)\n",
        "plt.boxplot(train['pickup_longitude'])\n",
        "plt.title('pickup_longitude')\n",
        "\n",
        "plt.subplot(3,4,7)\n",
        "plt.boxplot(train['abs_longi'])\n",
        "plt.title('abs_longi')\n",
        "\n",
        "plt.subplot(3,4,8)\n",
        "plt.boxplot(train['abs_lat'])\n",
        "plt.title('abs_lat')\n",
        "\n",
        "plt.subplot(3,4,9)\n",
        "plt.boxplot(train['distance'])\n",
        "plt.title('distance')\n",
        "\n",
        "plt.tight_layout()"
      ],
      "execution_count": 0,
      "outputs": []
    },
    {
      "cell_type": "markdown",
      "metadata": {
        "id": "30-EyW0UVsS3",
        "colab_type": "text"
      },
      "source": [
        "# Feature Selection"
      ]
    },
    {
      "cell_type": "code",
      "metadata": {
        "id": "mb-Xpd6fVAvv",
        "colab_type": "code",
        "colab": {}
      },
      "source": [
        "sns.set(rc={'figure.figsize':(8,5)})\n",
        "\n",
        "train['passenger_count'] = train['passenger_count'].astype(int)\n",
        "colname = ['distance','abs_longi','abs_lat','fare_amount','passenger_count']\n",
        "heat_map = train[colname]\n",
        "sns.heatmap(heat_map.corr(), vmin=-1.00, vmax=1.00, annot=True)"
      ],
      "execution_count": 0,
      "outputs": []
    },
    {
      "cell_type": "code",
      "metadata": {
        "id": "0Oe3r-S3Vv2a",
        "colab_type": "code",
        "colab": {}
      },
      "source": [
        "#considering taxi ride is limited to certain distance will keep this at 100Km\n",
        "train = train[train[\"distance\"] < 100]\n",
        "train = train[train[\"distance\"] > 0]\n",
        "\n",
        "#Droping the 66.00839 from abs_longi and 39.99361 from abs_lat which is not contributing much but just a noice, which i understood from my visualization\n",
        "train['abs_longi'] = train['abs_longi'].replace(66.00839, np.nan)\n",
        "train['abs_lat'] = train['abs_lat'].replace(39.99361, np.nan)\n",
        "\n",
        "train = train.dropna(subset=['abs_longi'])\n",
        "train = train.dropna(subset=['abs_lat'])"
      ],
      "execution_count": 0,
      "outputs": []
    },
    {
      "cell_type": "markdown",
      "metadata": {
        "id": "tumazkOybjtl",
        "colab_type": "text"
      },
      "source": [
        "# Modelling"
      ]
    },
    {
      "cell_type": "code",
      "metadata": {
        "id": "917dOrLsbVAd",
        "colab_type": "code",
        "colab": {}
      },
      "source": [
        "from sklearn import metrics\n",
        "#function to check performance  \n",
        "def performance(actual, predict):\n",
        "    print('MSE:', metrics.mean_squared_error(actual, predict)) \n",
        "    print('RMSE:', np.sqrt(metrics.mean_squared_error(actual, predict))) \n",
        "    print('MAPE:',np.mean(np.abs((actual-predict)/actual))*100)\n",
        "    print('R-Sq:', metrics.r2_score(actual, predict))"
      ],
      "execution_count": 0,
      "outputs": []
    },
    {
      "cell_type": "code",
      "metadata": {
        "id": "wwSzJF1Obl9S",
        "colab_type": "code",
        "colab": {}
      },
      "source": [
        "##Sampling: dividing  Test and train data  using sklearn \n",
        "from sklearn.model_selection import train_test_split,KFold, cross_val_score, cross_val_predict\n",
        "import copy\n",
        "#moving the amount to last variable\n",
        "train['amount']= copy.copy(train['fare_amount'])\n",
        "train = train.drop(['fare_amount'], axis=1)\n",
        "\n",
        "#Random sample selection \n",
        "X_train, x_test = train_test_split(train, test_size = 0.20, random_state = 100)\n",
        "train.shape, x_test.shape , X_train.shape, test.shape"
      ],
      "execution_count": 0,
      "outputs": []
    },
    {
      "cell_type": "code",
      "metadata": {
        "id": "mm9kxqSvb5oN",
        "colab_type": "code",
        "colab": {}
      },
      "source": [
        "# Decision Tree\n",
        "from sklearn.tree import DecisionTreeRegressor\n",
        "\n",
        "dt1 = DecisionTreeRegressor(max_depth =3, random_state=123).fit(X_train.iloc[:,11:12],X_train.iloc[:,12])\n",
        "prediction_dt1 = dt1.predict(x_test.iloc[:,11:12])\n",
        "\n",
        "#error matrix\n",
        "performance(x_test.iloc[:,12],prediction_dt1)\n",
        "print('                           ')\n",
        "print('Perdicted Vs Actual value: ')\n",
        "prediction_dt1[1], x_test.iloc[1,12]\n"
      ],
      "execution_count": 0,
      "outputs": []
    },
    {
      "cell_type": "code",
      "metadata": {
        "id": "xm6Zikd0cKRv",
        "colab_type": "code",
        "colab": {}
      },
      "source": [
        "dt1.score(X_train.iloc[:,11:12],X_train.iloc[:,12])*100\n"
      ],
      "execution_count": 0,
      "outputs": []
    },
    {
      "cell_type": "code",
      "metadata": {
        "id": "fz8b03mFcYII",
        "colab_type": "code",
        "colab": {}
      },
      "source": [
        "# Random Forest\n",
        "from sklearn.ensemble import RandomForestRegressor\n",
        "\n",
        "rf1 = RandomForestRegressor(n_estimators = 500, random_state = 126).fit(X_train.iloc[:,11:12],X_train.iloc[:,12])\n",
        "prediction_rf1 = rf1.predict(x_test.iloc[:,11:12])\n",
        "\n",
        "#error matrix\n",
        "performance(x_test.iloc[:,12],prediction_rf1)\n",
        "print('                           ')\n",
        "print('Perdicted Vs Actual value: ')\n",
        "prediction_rf1[1], x_test.iloc[1,12]"
      ],
      "execution_count": 0,
      "outputs": []
    },
    {
      "cell_type": "code",
      "metadata": {
        "id": "89zEBj19cprK",
        "colab_type": "code",
        "colab": {}
      },
      "source": [
        "rf1.score(X_train.iloc[:,11:12],X_train.iloc[:,12])*100\n"
      ],
      "execution_count": 0,
      "outputs": []
    },
    {
      "cell_type": "code",
      "metadata": {
        "id": "gWouOlNhc_Xw",
        "colab_type": "code",
        "colab": {}
      },
      "source": [
        "from sklearn.linear_model import LinearRegression\n",
        "#1.Simple Linear Regression Model 3\n",
        "\n",
        "\n",
        "ln1 = LinearRegression().fit(X_train.iloc[:,11:12],X_train.iloc[:,12])\n",
        "prediction_slr1 = ln1.predict(x_test.iloc[:,11:12])\n",
        "\n",
        "#error matrix\n",
        "performance(x_test.iloc[:,12],prediction_slr1)\n",
        "print('                           ')\n",
        "print('Perdicted Vs Actual value: ')\n",
        "prediction_slr1[1], x_test.iloc[1,12]"
      ],
      "execution_count": 0,
      "outputs": []
    },
    {
      "cell_type": "code",
      "metadata": {
        "id": "y0bf231jdPpW",
        "colab_type": "code",
        "colab": {}
      },
      "source": [
        "ln1.score(X_train.iloc[:,11:12],X_train.iloc[:,12])\n"
      ],
      "execution_count": 0,
      "outputs": []
    },
    {
      "cell_type": "code",
      "metadata": {
        "id": "J50ZWObmdW76",
        "colab_type": "code",
        "colab": {}
      },
      "source": [
        "from sklearn import ensemble\n",
        "clf = ensemble.GradientBoostingRegressor(n_estimators = 400, max_depth = 5, min_samples_split = 2,\n",
        "          learning_rate = 0.1, loss = 'ls')\n",
        "clf.fit(X_train.iloc[:,11:12],X_train.iloc[:,12])\n",
        "prediction_one = clf.predict(x_test.iloc[:,11:12])\n",
        "performance(x_test.iloc[:,12],prediction_one)\n",
        "print('                           ')\n",
        "print('Perdicted Vs Actual value: ')\n",
        "prediction_one[1], x_test.iloc[1,12]\n",
        "\n"
      ],
      "execution_count": 0,
      "outputs": []
    },
    {
      "cell_type": "code",
      "metadata": {
        "id": "W9MVoOGChcLS",
        "colab_type": "code",
        "colab": {}
      },
      "source": [
        "clf.score(X_train.iloc[:,11:12],X_train.iloc[:,12])\n"
      ],
      "execution_count": 0,
      "outputs": []
    },
    {
      "cell_type": "code",
      "metadata": {
        "id": "892rJXSvhrTB",
        "colab_type": "code",
        "colab": {}
      },
      "source": [
        "from sklearn import linear_model\n",
        "#Ridge model\n",
        "\n",
        "\n",
        "ln2 = linear_model.Ridge(alpha=.5).fit(X_train.iloc[:,11:12],X_train.iloc[:,12])\n",
        "prediction_slr2 = ln2.predict(x_test.iloc[:,11:12])\n",
        "\n",
        "#error matrix\n",
        "performance(x_test.iloc[:,12],prediction_slr2)\n",
        "print('                           ')\n",
        "print('Perdicted Vs Actual value: ')\n",
        "prediction_slr2[1], x_test.iloc[1,12]"
      ],
      "execution_count": 0,
      "outputs": []
    },
    {
      "cell_type": "code",
      "metadata": {
        "id": "3oV1kUGDifzd",
        "colab_type": "code",
        "colab": {}
      },
      "source": [
        "ln2.score(X_train.iloc[:,11:12],X_train.iloc[:,12])\n"
      ],
      "execution_count": 0,
      "outputs": []
    },
    {
      "cell_type": "code",
      "metadata": {
        "id": "VueE-jEQip2e",
        "colab_type": "code",
        "colab": {}
      },
      "source": [
        "# Now we will predict with all the variable \n",
        "dt2 = DecisionTreeRegressor(max_depth =5, random_state=123).fit(X_train.iloc[:,4:12],X_train.iloc[:,12])\n",
        "prediction_dt2 = dt2.predict(x_test.iloc[:,4:12])\n",
        "\n",
        "#error matrix\n",
        "performance(x_test.iloc[:,12],prediction_dt2)\n",
        "print('                           ')\n",
        "print('Perdicted Vs Actual value: ')\n",
        "prediction_dt2[1], x_test.iloc[1,12]"
      ],
      "execution_count": 0,
      "outputs": []
    },
    {
      "cell_type": "code",
      "metadata": {
        "id": "bmO7QhcEi9Un",
        "colab_type": "code",
        "colab": {}
      },
      "source": [
        "dt2.score(X_train.iloc[:,4:12],X_train.iloc[:,12])\n"
      ],
      "execution_count": 0,
      "outputs": []
    },
    {
      "cell_type": "code",
      "metadata": {
        "id": "phb26r5cjBqF",
        "colab_type": "code",
        "colab": {}
      },
      "source": [
        "rf2 = RandomForestRegressor(n_estimators = 100, random_state = 126).fit(X_train.iloc[:,4:12],X_train.iloc[:,12])\n",
        "prediction_rf2 = rf2.predict(x_test.iloc[:,4:12])\n",
        "\n",
        "#error matrix\n",
        "performance(x_test.iloc[:,12],prediction_rf2)\n",
        "print('                           ')\n",
        "print('Perdicted Vs Actual value: ')\n",
        "prediction_rf2[1], x_test.iloc[1,12]"
      ],
      "execution_count": 0,
      "outputs": []
    },
    {
      "cell_type": "code",
      "metadata": {
        "id": "dwpWjM4ujJCj",
        "colab_type": "code",
        "colab": {}
      },
      "source": [
        "rf2.score(X_train.iloc[:,4:12],X_train.iloc[:,12])\n"
      ],
      "execution_count": 0,
      "outputs": []
    },
    {
      "cell_type": "code",
      "metadata": {
        "id": "T0rJD8AfilzY",
        "colab_type": "code",
        "colab": {}
      },
      "source": [
        "# Here we can find out which feature are most important in predicting the cab fare\n",
        "#Feature importance plotting\n",
        "names=list(train)\n",
        "names = names[4:12]\n",
        "\n",
        "sns.barplot(x = names ,y = rf2.feature_importances_)  \n",
        "\n",
        "plt.title('Feature Importance')\n",
        "plt.xlabel('Features')\n",
        "plt.ylabel('Importance')"
      ],
      "execution_count": 0,
      "outputs": []
    },
    {
      "cell_type": "markdown",
      "metadata": {
        "id": "hsa91GBOjrr3",
        "colab_type": "text"
      },
      "source": [
        "# Now implementing with the test dataset"
      ]
    },
    {
      "cell_type": "code",
      "metadata": {
        "id": "LK6sDldgjOYH",
        "colab_type": "code",
        "colab": {}
      },
      "source": [
        "test['pickup_datetime'] = pd.to_datetime(test['pickup_datetime'], errors='coerce')\n",
        "test = test.dropna(subset=['pickup_datetime'])"
      ],
      "execution_count": 0,
      "outputs": []
    },
    {
      "cell_type": "code",
      "metadata": {
        "id": "Cy1qHbJHjS2s",
        "colab_type": "code",
        "colab": {}
      },
      "source": [
        "test['year']=test['pickup_datetime'].dt.year\n",
        "test['month']=test['pickup_datetime'].dt.month\n",
        "test['weekday']=test['pickup_datetime'].dt.weekday\n",
        "test['hour']=test['pickup_datetime'].dt.hour"
      ],
      "execution_count": 0,
      "outputs": []
    },
    {
      "cell_type": "code",
      "metadata": {
        "id": "7CURegIOj5dc",
        "colab_type": "code",
        "colab": {}
      },
      "source": [
        "test['abs_longi']=abs(test['pickup_longitude']-test['dropoff_longitude'])\n",
        "test['abs_lat']=abs(test['pickup_latitude']-test['dropoff_latitude'])"
      ],
      "execution_count": 0,
      "outputs": []
    },
    {
      "cell_type": "code",
      "metadata": {
        "id": "X_D2j6arj-2_",
        "colab_type": "code",
        "colab": {}
      },
      "source": [
        "test['distance'] = great_circle_distance(test.pickup_longitude, test.pickup_latitude, test.dropoff_longitude, test.dropoff_latitude)\n"
      ],
      "execution_count": 0,
      "outputs": []
    },
    {
      "cell_type": "code",
      "metadata": {
        "id": "7uusxwRKkEmZ",
        "colab_type": "code",
        "colab": {}
      },
      "source": [
        "\n",
        "test = test.drop(['pickup_datetime','pickup_longitude', 'pickup_latitude','dropoff_longitude', 'dropoff_latitude'], axis=1)"
      ],
      "execution_count": 0,
      "outputs": []
    },
    {
      "cell_type": "code",
      "metadata": {
        "id": "-RFEi9xFkKHG",
        "colab_type": "code",
        "colab": {}
      },
      "source": [
        "rf = RandomForestRegressor(n_estimators = 100, random_state = 127).fit(X_train.iloc[:,4:12],X_train.iloc[:,12])\n",
        "amount = rf.predict(test)\n",
        "\n",
        "test ['amount'] = amount"
      ],
      "execution_count": 0,
      "outputs": []
    },
    {
      "cell_type": "code",
      "metadata": {
        "id": "gmBZSy_-nrHm",
        "colab_type": "code",
        "colab": {}
      },
      "source": [
        "test.head()"
      ],
      "execution_count": 0,
      "outputs": []
    },
    {
      "cell_type": "code",
      "metadata": {
        "id": "HbRsDxaTn47P",
        "colab_type": "code",
        "colab": {}
      },
      "source": [
        "test.to_csv(\"Predicted_Fare.csv\")\n"
      ],
      "execution_count": 0,
      "outputs": []
    },
    {
      "cell_type": "code",
      "metadata": {
        "id": "w36l0qVsoEDs",
        "colab_type": "code",
        "colab": {}
      },
      "source": [
        ""
      ],
      "execution_count": 0,
      "outputs": []
    }
  ]
}